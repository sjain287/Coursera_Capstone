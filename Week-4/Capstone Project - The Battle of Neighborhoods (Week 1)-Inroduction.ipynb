{
 "cells": [
  {
   "cell_type": "markdown",
   "metadata": {},
   "source": [
    "# Capstone Project - The Battle of Neighborhoods (Week 1)-Introduction"
   ]
  },
  {
   "cell_type": "markdown",
   "metadata": {},
   "source": [
    "## Instructions\n",
    "\n",
    "Now that you have been equipped with the skills and the tools to use location data to explore a geographical location, over the course of two weeks, you will have the opportunity to be as creative as you want and come up with an idea to leverage the Foursquare location data to explore or compare neighborhoods or cities of your choice or to come up with a problem that you can use the Foursquare location data to solve. If you cannot think of an idea or a problem, here are some ideas to get you started:\n",
    "\n",
    "    In Module 3, we explored New York City and the city of Toronto and segmented and clustered their neighborhoods. Both cities are very diverse and are the financial capitals of their respective countries. One interesting idea would be to compare the neighborhoods of the two cities and determine how similar or dissimilar they are. Is New York City more like Toronto or Paris or some other multicultural city? I will leave it to you to refine this idea.\n",
    "    In a city of your choice, if someone is looking to open a restaurant, where would you recommend that they open it? Similarly, if a contractor is trying to start their own business, where would you recommend that they setup their office?\n",
    "\n",
    "These are just a couple of many ideas and problems that can be solved using location data in addition to other datasets. No matter what you decide to do, make sure to provide sufficient justification of why you think what you want to do or solve is important and why would a client or a group of people be interested in your project.\n",
    "Review criteria\n",
    "\n",
    "This capstone project will be graded by your peers. This capstone project is worth 70% of your total grade. The project will be completed over the course of 2 weeks. Week 1 submissions will be worth 30% whereas week 2 submissions will be worth 40% of your total grade.\n",
    "\n",
    "For this week, you will required to submit the following:\n",
    "\n",
    "    1. A description of the problem and a discussion of the background. (15 marks)\n",
    "    2. A description of the data and how it will be used to solve the problem. (15 marks)\n",
    "\n",
    "For the second week, the final deliverables of the project will be:\n",
    "\n",
    "    1. A link to your Notebook on your Github repository, showing your code. (15 marks)\n",
    "    2. A full report consisting of all of the following components (15 marks):\n",
    "\n",
    "        . Introduction where you discuss the business problem and who would be interested in this project.\n",
    "        . Data where you describe the data that will be used to solve the problem and the source of the data.\n",
    "        . Methodology section which represents the main component of the report where you discuss and describe any exploratory data analysis that you did, any inferential statistical testing that you performed, if any, and what machine learnings were used and why.\n",
    "        . Results section where you discuss the results.\n",
    "        . Discussion section where you discuss any observations you noted and any recommendations you can make based on the results.\n",
    "        . Conclusion section where you conclude the report.\n",
    "\n",
    "    3. Your choice of a presentation or blogpost. (10 marks)"
   ]
  },
  {
   "cell_type": "markdown",
   "metadata": {},
   "source": [
    "## Background\n",
    "\n",
    "According to a study conducted by the United States Census Bureau, the average person will move their household 11.7 times in their lifetime. Although the Census Bureau did not ask people that question directly, the study's results were based on two basic pieces of data; which age groups are most likely to move in a given year, and the overall structure of the population of the United Sates.\n",
    "\n",
    "This brings us to the question: do people move until they findout a right place to settle down where they can live _*\"Happily ever after\"*_ or their need or desire change with time? or do people move to a place without knowing what they are getting in to?\n",
    "\n",
    "The concept of \"Livability\" comes to minimize the chances of happening unpleasant things.\n",
    "“Liveability - an assessment of what a place is like to live in, using particular criteria,for example, environmental quality, crime and safety, education and health provision, access to shops and services, recreational facilities and cultural activities.” _Safety_ is the top most concern amongst all the factors. So it's very important to move to home which feels like \"SAFE HEAVEN\".\n",
    "\n",
    "\n",
    "## Problem:\n",
    "The crime dataset of London found on Kaggle.com has 13M rows containing counts of criminal reports by month in each Boroughs of London from 2008 to 2016. Assuming that data of 2016 as latest data, the solution can be implemented. \n",
    "\n",
    "This project aims to select the safest borough in London based on the London crime data, explore the neighborhoods of that borough to find the 10 most common venues in each neighborhood and finally cluster the neighborhoods using k-mean clustering.\n",
    "\n",
    "P.S: 2016 data is quite old for 2020 and the crime rates in differen boroughs may have changed.\n",
    "\n",
    "## Audience:\n",
    "People who are considering to relocate to London will be interested to identify the safes Borough and explore the neighbourhood. \n",
    "\n"
   ]
  },
  {
   "cell_type": "code",
   "execution_count": null,
   "metadata": {},
   "outputs": [],
   "source": []
  }
 ],
 "metadata": {
  "kernelspec": {
   "display_name": "Python 3",
   "language": "python",
   "name": "python3"
  },
  "language_info": {
   "codemirror_mode": {
    "name": "ipython",
    "version": 3
   },
   "file_extension": ".py",
   "mimetype": "text/x-python",
   "name": "python",
   "nbconvert_exporter": "python",
   "pygments_lexer": "ipython3",
   "version": "3.6.5"
  }
 },
 "nbformat": 4,
 "nbformat_minor": 2
}
