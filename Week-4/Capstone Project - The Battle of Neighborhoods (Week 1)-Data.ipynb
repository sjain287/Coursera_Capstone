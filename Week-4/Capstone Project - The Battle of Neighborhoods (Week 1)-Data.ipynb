{
 "cells": [
  {
   "cell_type": "markdown",
   "metadata": {},
   "source": [
    "# Capstone Project - The Battle of Neighborhoods (Week 1)-Data"
   ]
  },
  {
   "cell_type": "markdown",
   "metadata": {},
   "source": [
    "## Data\n",
    "\n",
    "The city analysed in this project: *London*\n",
    "\n",
    "We will be using the below data sources for analysis\n",
    "\n",
    "    1. Data source 1 : Kaggle.com\n",
    "        we will be using London crime dataset(https://www.kaggle.com/jboysen/london-crime/download) which contains 13M rows of criminal reports\n",
    "        \n",
    "        Dataset has the below structure\n",
    "        . lsoa_code : code for Lower Super Output Area in Greater London.\n",
    "        . borough : Common name for London borough.\n",
    "        . major_category : High level categorization of crime\n",
    "        . minor_category : Low level categorization of crime within major category.\n",
    "        . value : monthly reported count of categorical crime in given borough\n",
    "        . year : Year of reported counts, 2008-2016\n",
    "        . month : Month of reported counts, 1-12\n",
    "        \n",
    "    2. Data source 2 : Wikipedia\n",
    "        https://en.wikipedia.org/wiki/List_of_London_boroughs. We can have below columns from this wikipedia page.\n",
    "\n",
    "        . Borough : The names of the 33 London boroughs.\n",
    "        . Inner : Categorizing the borough as an Inner London borough or an Outer London Borough.\n",
    "        . Status  : Categorizing the borough as Royal, City or other borough.\n",
    "        . Local authority : The local authority assigned to the borough.\n",
    "        . Political control : The political party that control the borough.\n",
    "        . Headquarters:  Headquarters of the Boroughs.\n",
    "        . Area (sq mi) : Area of the borough in square miles.\n",
    "        . Population (2013 est)[1] : The population in the borough recorded during the year 2013.\n",
    "        . Co-ordinates : The latitude and longitude of the boroughs.\n",
    "        . Nr. in map : The number assigned to each borough to represent visually on a map.\n",
    "        \n",
    "    3. Data Source 3: Wikipedia\n",
    "        https://en.wikipedia.org/wiki/List_of_districts_in_the_Royal_Borough_of_Kingston_upon_Thames.\n",
    "        We will be creating a dataset from scratch using the list of neighbourhood avaialble in the above mentioned page.\n",
    "        the columns are as follows.\n",
    "        \n",
    "        . Neighborhood:  Name of the neighborhood in the Borough.\n",
    "        . Borough:  Name of the Borough.\n",
    "        . Latitude:  Latitude of the Borough.\n",
    "        . Longitude: Longitude of the Borough.\n",
    "\n"
   ]
  },
  {
   "cell_type": "code",
   "execution_count": null,
   "metadata": {},
   "outputs": [],
   "source": []
  }
 ],
 "metadata": {
  "kernelspec": {
   "display_name": "Python 3",
   "language": "python",
   "name": "python3"
  },
  "language_info": {
   "codemirror_mode": {
    "name": "ipython",
    "version": 3
   },
   "file_extension": ".py",
   "mimetype": "text/x-python",
   "name": "python",
   "nbconvert_exporter": "python",
   "pygments_lexer": "ipython3",
   "version": "3.6.5"
  }
 },
 "nbformat": 4,
 "nbformat_minor": 2
}
